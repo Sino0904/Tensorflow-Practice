{
 "cells": [
  {
   "cell_type": "code",
   "execution_count": 1,
   "metadata": {
    "collapsed": true
   },
   "outputs": [],
   "source": [
    "import numpy as np"
   ]
  },
  {
   "cell_type": "code",
   "execution_count": 3,
   "metadata": {},
   "outputs": [],
   "source": [
    "class Operation:\n",
    "    def __init__(self,input_nodes=[]):\n",
    "        self.input_nodes = input_nodes\n",
    "        #Initialize list of consumers\n",
    "        self.consumers=[]\n",
    "        for input_node in input_nodes:\n",
    "            input_node.consumers.append(self)\n",
    "            \n",
    "        _default_graph.operations.append(self)\n",
    "        \n",
    "    def compute(self):\n",
    "        pass"
   ]
  },
  {
   "cell_type": "code",
   "execution_count": 4,
   "metadata": {
    "collapsed": true
   },
   "outputs": [],
   "source": [
    "#ADDITION\n",
    "\n",
    "class add(Operation):\n",
    "    \"Returns x+y \"\n",
    "    def __init__(self,x,y):\n",
    "        \"Constructor add\"\n",
    "        \"Args: x: first summand node; y: second summand node\"\n",
    "        super().__init__([x,y])\n",
    "        \n",
    "    def compute(self,x_value, y_value):\n",
    "        return x_value + y_value"
   ]
  },
  {
   "cell_type": "code",
   "execution_count": 16,
   "metadata": {
    "collapsed": true
   },
   "outputs": [],
   "source": [
    "#MULTIPLICATION\n",
    "\n",
    "class matmul(Operation):\n",
    "    def __init__(self,a,b):\n",
    "        super().__init__([a,b])\n",
    "    def compute(self,a_value,b_value):\n",
    "        return a_value.dot(b_value)"
   ]
  },
  {
   "cell_type": "code",
   "execution_count": 17,
   "metadata": {
    "collapsed": true
   },
   "outputs": [],
   "source": [
    "#PLACEHOLDERS\n",
    "\n",
    "class placeholder:\n",
    "    def __init__(self):\n",
    "        self.consumers =[]\n",
    "        _default_graph.placeholders.append(self)"
   ]
  },
  {
   "cell_type": "code",
   "execution_count": 18,
   "metadata": {
    "collapsed": true
   },
   "outputs": [],
   "source": [
    "#VARIABLE\n",
    "\n",
    "class Variable:\n",
    "    def __init__(self,initial_value=None):\n",
    "        self.value = initial_value\n",
    "        self.consumers = []\n",
    "        \n",
    "        _default_graph.variables.append(self)"
   ]
  },
  {
   "cell_type": "code",
   "execution_count": 19,
   "metadata": {
    "collapsed": true
   },
   "outputs": [],
   "source": [
    "class Graph:\n",
    "    \"Represents computational graph\"\n",
    "    def __init__(self):\n",
    "        \"Construct graph\"\n",
    "        self.operations = []\n",
    "        self.placeholders = []\n",
    "        self.variables = []\n",
    "        \n",
    "    def as_default(self):\n",
    "        global _default_graph\n",
    "        _default_graph = self"
   ]
  },
  {
   "cell_type": "code",
   "execution_count": 20,
   "metadata": {},
   "outputs": [],
   "source": [
    "#EXAMPLE\n",
    "\n",
    "Graph().as_default()\n",
    "\n",
    "#Create Variables\n",
    "A = Variable([[1,0],[0,-1]])\n",
    "b = Variable([1,1])\n",
    "\n",
    "#Create placeholder\n",
    "x = placeholder()\n",
    "\n",
    "#Create hidden node y\n",
    "y = matmul(A,x)\n",
    "\n",
    "#Create output node z\n",
    "z = add(y,b)"
   ]
  },
  {
   "cell_type": "code",
   "execution_count": 21,
   "metadata": {
    "collapsed": true
   },
   "outputs": [],
   "source": [
    "import numpy as np\n",
    "\n",
    "class Session:\n",
    "    \n",
    "    def run(self,operation,feed_dict={}):\n",
    "        #perform post-order traversal of the graph to bring the nodes into the right order\n",
    "        nodes_postorder = traverse_postorder(operation)\n",
    "        \n",
    "        #Iterate all nodes to determine their value\n",
    "        for node in nodes_postorder:\n",
    "            \n",
    "            if type(node) == placeholder:\n",
    "                node.output = feed_dict[node]\n",
    "            elif type(node) == Variable:\n",
    "                node.output = node.value\n",
    "            else:\n",
    "                node.inputs = [input_node.output for input_node in node.input_nodes]\n",
    "                node.output = node.compute(*node.inputs)\n",
    "                \n",
    "            if type(node.output) == list:\n",
    "                node.output = np.array(node.output)\n",
    "                \n",
    "        return operation.output\n",
    "    \n",
    "def traverse_postorder(operation):\n",
    "    nodes_postorder = []\n",
    "    def recurse(node):\n",
    "        if isinstance(node, Operation):\n",
    "            for input_node in node.input_nodes:\n",
    "                recurse(input_node)\n",
    "        nodes_postorder.append(node)\n",
    "    \n",
    "    recurse(operation)\n",
    "    return nodes_postorder"
   ]
  },
  {
   "cell_type": "code",
   "execution_count": 23,
   "metadata": {},
   "outputs": [
    {
     "name": "stdout",
     "output_type": "stream",
     "text": [
      "[ 2 -1]\n"
     ]
    }
   ],
   "source": [
    "session = Session()\n",
    "output = session.run(z,{x:[1,2]})\n",
    "print(output)"
   ]
  },
  {
   "cell_type": "code",
   "execution_count": null,
   "metadata": {
    "collapsed": true
   },
   "outputs": [],
   "source": []
  }
 ],
 "metadata": {
  "kernelspec": {
   "display_name": "Python 3",
   "language": "python",
   "name": "python3"
  },
  "language_info": {
   "codemirror_mode": {
    "name": "ipython",
    "version": 3
   },
   "file_extension": ".py",
   "mimetype": "text/x-python",
   "name": "python",
   "nbconvert_exporter": "python",
   "pygments_lexer": "ipython3",
   "version": "3.5.4"
  }
 },
 "nbformat": 4,
 "nbformat_minor": 2
}
